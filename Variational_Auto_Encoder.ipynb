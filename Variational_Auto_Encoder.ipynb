{
 "cells": [
  {
   "cell_type": "markdown",
   "id": "9ab61981",
   "metadata": {},
   "source": [
    "## Importing Libraries"
   ]
  },
  {
   "cell_type": "code",
   "execution_count": 34,
   "id": "163489c7",
   "metadata": {},
   "outputs": [],
   "source": [
    "import os #will be used for creating directories, etc.\n",
    "\n",
    "import numpy as np\n",
    "import matplotlib.pyplot as plt\n",
    "import pandas as pd\n",
    "from pandas import DataFrame\n",
    "\n",
    "import torch\n",
    "import torchvision\n",
    "import torchvision.datasets as dsets             #for downloading dataset\n",
    "import torchvision.transforms as transforms      #for transforming dataset into tensors\n",
    "from torch.nn import functional as F\n",
    "\n",
    "from torch import nn\n",
    "from torch.autograd import Variable\n",
    "import torchvision.transforms.functional as fn\n",
    "\n",
    "from PIL import Image\n",
    "\n",
    "from time import time"
   ]
  },
  {
   "cell_type": "markdown",
   "id": "96177b87",
   "metadata": {},
   "source": [
    "## Uploading Data"
   ]
  },
  {
   "cell_type": "code",
   "execution_count": 18,
   "id": "bd882f50",
   "metadata": {},
   "outputs": [
    {
     "name": "stdout",
     "output_type": "stream",
     "text": [
      "number of different names 4038\n",
      "Arnold_Schwarzenegger\n",
      "(64, 64)\n"
     ]
    }
   ],
   "source": [
    "train_data = pd.read_csv('archive/peopleDevTrain.csv')\n",
    "\n",
    "no_of_diff_people = train_data.shape[0]\n",
    "\n",
    "print('number of different names', train_data.shape[0])\n",
    "print(train_data.iloc[278,0])\n",
    "\n",
    "img = Image.open(\"archive/lfw-deepfunneled/lfw-deepfunneled/Aaron_Eckhart/Aaron_Eckhart_0001.jpg\")\n",
    "\n",
    "red_dim = 64\n",
    "img = fn.resize(img, size=[red_dim, red_dim])\n",
    "\n",
    "img\n",
    "\n",
    "convert_tensor = transforms.Compose([\n",
    "    transforms.ToTensor()\n",
    "])\n",
    "\n",
    "convert_tensor(img)\n",
    "\n",
    "print(img.size)"
   ]
  },
  {
   "cell_type": "code",
   "execution_count": 19,
   "id": "64386fcf",
   "metadata": {},
   "outputs": [],
   "source": [
    "def img2tensor (filepath):\n",
    "    img = Image.open(filepath)\n",
    "    img = fn.resize(img, size=[red_dim, red_dim])\n",
    "    image = convert_tensor(img)\n",
    "    return image"
   ]
  },
  {
   "cell_type": "code",
   "execution_count": 20,
   "id": "1db90ffa",
   "metadata": {},
   "outputs": [],
   "source": [
    "trial_number = 100\n",
    "image = torch.tensor(np.zeros(shape= (trial_number,3,red_dim,red_dim)))\n",
    "for number in range(trial_number):\n",
    "    name = train_data.iloc[number,0]\n",
    "    no_of_images = train_data.iloc[number,1]\n",
    "#     print(name)\n",
    "#     print(no_of_images)\n",
    "\n",
    "    for i in range(no_of_images):\n",
    "        path = \"archive/lfw-deepfunneled/lfw-deepfunneled/\"\n",
    "        photo_number = i+1\n",
    "        if i < 9:\n",
    "            file_path = path + name + '/'+ name + '_000'  + str(photo_number) +'.jpg'\n",
    "        elif i>9:\n",
    "            file_path = path + name + '/'+ name + '_00'  + str(photo_number) +'.jpg'\n",
    "        else:\n",
    "            break\n",
    "            \n",
    "#         file_path = path + name + '/'+ name + '_0001' +'.jpg'\n",
    "        image[number,:,:,:] = img2tensor(file_path)\n",
    "#         print(image.size())"
   ]
  },
  {
   "cell_type": "code",
   "execution_count": 21,
   "id": "4711913d",
   "metadata": {},
   "outputs": [
    {
     "name": "stdout",
     "output_type": "stream",
     "text": [
      "torch.Size([3, 64, 64])\n"
     ]
    },
    {
     "data": {
      "text/plain": [
       "<matplotlib.image.AxesImage at 0x7fa97c0ed850>"
      ]
     },
     "execution_count": 21,
     "metadata": {},
     "output_type": "execute_result"
    },
    {
     "data": {
      "image/png": "[encoded data removed]",
      "text/plain": [
       "<Figure size 432x288 with 1 Axes>"
      ]
     },
     "metadata": {
      "needs_background": "light"
     },
     "output_type": "display_data"
    }
   ],
   "source": [
    "trial_image = image[trial_number-1,:,:,:]\n",
    "print(trial_image.size())\n",
    "plt.imshow(trial_image.permute(1, 2, 0)  )"
   ]
  },
  {
   "cell_type": "code",
   "execution_count": 22,
   "id": "ec8ac218",
   "metadata": {},
   "outputs": [],
   "source": [
    "def to_var(x):\n",
    "    if torch.cuda.is_available():\n",
    "        x = x.dtype(float32)\n",
    "    return Variable(x)"
   ]
  },
  {
   "cell_type": "code",
   "execution_count": 23,
   "id": "ba2d6cdf",
   "metadata": {},
   "outputs": [
    {
     "name": "stdout",
     "output_type": "stream",
     "text": [
      "torch.Size([100, 12288])\n",
      "torch.Size([100, 12288])\n"
     ]
    }
   ],
   "source": [
    "image = to_var(image.view(image.size(0), -1))\n",
    "print(image.size())\n",
    "# image = torch.flatten(image)\n",
    "print(image.size())\n",
    "input_dim = image.size()"
   ]
  },
  {
   "cell_type": "markdown",
   "id": "c26e4e8e",
   "metadata": {},
   "source": [
    "## Create Auto Encoder"
   ]
  },
  {
   "cell_type": "code",
   "execution_count": 24,
   "id": "12a5e86a",
   "metadata": {},
   "outputs": [],
   "source": [
    "# We are going to create three neural nets - Encoder, Decoder, and Adversarial\n",
    "\n",
    "# Encoder\n",
    "class ENC_net(nn.Module): \n",
    "    def __init__(self, X_dim, N, z_dim):\n",
    "        super(ENC_net, self).__init__()\n",
    "        self.lin1 = nn.Linear(X_dim, N)\n",
    "        self.lin2 = nn.Linear(N, N)\n",
    "        self.lin3gauss = nn.Linear(N, z_dim)\n",
    "    \n",
    "    def forward(self, x):\n",
    "        x = F.dropout(self.lin1(x), p=0.25, training=self.training)\n",
    "        x = F.relu(x)\n",
    "        x = F.dropout(self.lin2(x), p=0.25, training=self.training)\n",
    "        x = F.relu(x)\n",
    "        xgauss = self.lin3gauss(x)\n",
    "        return xgauss\n",
    "    \n",
    "\n",
    "# Decoder\n",
    "class DEC_net(nn.Module):  \n",
    "    def __init__(self, X_dim, N, z_dim):\n",
    "        super(DEC_net, self).__init__()\n",
    "        self.lin1 = nn.Linear(z_dim, N)\n",
    "        self.lin2 = nn.Linear(N, N)\n",
    "        self.lin3 = nn.Linear(N, X_dim)\n",
    "        \n",
    "    def forward(self, x):\n",
    "        x = F.dropout(self.lin1(x), p=0.25, training=self.training)\n",
    "        x = F.relu(x)\n",
    "        x = F.dropout(self.lin2(x), p=0.25, training=self.training)\n",
    "        x = self.lin3(x)\n",
    "        return F.sigmoid(x)\n",
    "    \n",
    "    \n",
    "# Discriminator\n",
    "class D_net_gauss(nn.Module):  \n",
    "    def __init__(self, N, z_dim):\n",
    "        super(D_net_gauss, self).__init__()\n",
    "        self.lin1 = nn.Linear(z_dim, N)\n",
    "        self.lin2 = nn.Linear(N, N)\n",
    "        self.lin3 = nn.Linear(N, 1)\n",
    "        \n",
    "    def forward(self, x):\n",
    "        x = F.dropout(self.lin1(x), p=0.2, training=self.training)\n",
    "        x = F.relu(x)\n",
    "        x = F.dropout(self.lin2(x), p=0.2, training=self.training)\n",
    "        x = F.relu(x)\n",
    "        return F.sigmoid(self.lin3(x))"
   ]
  },
  {
   "cell_type": "markdown",
   "id": "4889e0ba",
   "metadata": {},
   "source": [
    "## Training Parameters"
   ]
  },
  {
   "cell_type": "code",
   "execution_count": 25,
   "id": "320d7b44",
   "metadata": {},
   "outputs": [],
   "source": [
    "# Create Autoencoder model\n",
    "z_red_dims = 120\n",
    "EPS = 1e-15\n",
    "\n",
    "Q = ENC_net(3*red_dim*red_dim, 1000, z_red_dims)\n",
    "P = DEC_net(3*red_dim*red_dim, 1000, z_red_dims)\n",
    "D_gauss = D_net_gauss(500, z_red_dims)"
   ]
  },
  {
   "cell_type": "code",
   "execution_count": 26,
   "id": "ad6e464d",
   "metadata": {},
   "outputs": [],
   "source": [
    "### Optimizer\n",
    "\n",
    "# Set learning rates\n",
    "gen_lr = 0.0001\n",
    "reg_lr = 0.00005\n",
    "\n",
    "#encode/decode optimizers\n",
    "optim_P = torch.optim.Adam(P.parameters(), lr=gen_lr)\n",
    "optim_Q_enc = torch.optim.Adam(Q.parameters(), lr=gen_lr)\n",
    "\n",
    "#regularizing optimizers\n",
    "optim_Q_gen = torch.optim.Adam(Q.parameters(), lr=reg_lr)\n",
    "optim_D = torch.optim.Adam(D_gauss.parameters(), lr=reg_lr)"
   ]
  },
  {
   "cell_type": "code",
   "execution_count": 27,
   "id": "514a6ce9",
   "metadata": {},
   "outputs": [],
   "source": [
    "# criterion = nn.MSELoss()     #Binary cross-entropy loss for each pixel\n"
   ]
  },
  {
   "cell_type": "code",
   "execution_count": 28,
   "id": "b12655c4",
   "metadata": {},
   "outputs": [],
   "source": [
    "# image = image.type(torch.float32)\n",
    "# out_image = ae(image)\n",
    "# out_image = out_image.type(torch.float32)\n",
    "# loss = criterion(out_image, image)\n",
    "        \n",
    "# optimizer.zero_grad()\n",
    "# loss.backward()         # calculate gradients\n",
    "# optimizer.step() "
   ]
  },
  {
   "cell_type": "markdown",
   "id": "e2c388b3",
   "metadata": {},
   "source": [
    "## Training"
   ]
  },
  {
   "cell_type": "code",
   "execution_count": 37,
   "id": "dd4e65a0",
   "metadata": {},
   "outputs": [
    {
     "ename": "RuntimeError",
     "evalue": "mat1 and mat2 shapes cannot be multiplied (192x64 and 12288x1000)",
     "output_type": "error",
     "traceback": [
      "\u001b[0;31m---------------------------------------------------------------------------\u001b[0m",
      "\u001b[0;31mRuntimeError\u001b[0m                              Traceback (most recent call last)",
      "\u001b[0;32m<ipython-input-37-e3b0d1fad6d0>\u001b[0m in \u001b[0;36m<module>\u001b[0;34m\u001b[0m\n\u001b[1;32m     37\u001b[0m \u001b[0;34m\u001b[0m\u001b[0m\n\u001b[1;32m     38\u001b[0m         \u001b[0;32mif\u001b[0m \u001b[0;34m(\u001b[0m\u001b[0mepoch\u001b[0m\u001b[0;34m+\u001b[0m\u001b[0;36m1\u001b[0m\u001b[0;34m)\u001b[0m \u001b[0;34m%\u001b[0m \u001b[0;36m1\u001b[0m \u001b[0;34m==\u001b[0m \u001b[0;36m0\u001b[0m\u001b[0;34m:\u001b[0m\u001b[0;34m\u001b[0m\u001b[0;34m\u001b[0m\u001b[0m\n\u001b[0;32m---> 39\u001b[0;31m             \u001b[0mz_fixed\u001b[0m        \u001b[0;34m=\u001b[0m \u001b[0mQ\u001b[0m\u001b[0;34m(\u001b[0m\u001b[0mtrial_image\u001b[0m\u001b[0;34m)\u001b[0m   \u001b[0;31m# encode to z\u001b[0m\u001b[0;34m\u001b[0m\u001b[0;34m\u001b[0m\u001b[0m\n\u001b[0m\u001b[1;32m     40\u001b[0m             \u001b[0mreconst_images\u001b[0m \u001b[0;34m=\u001b[0m \u001b[0mP\u001b[0m\u001b[0;34m(\u001b[0m\u001b[0mz_fixed\u001b[0m\u001b[0;34m)\u001b[0m   \u001b[0;31m# decode to X reconstruction\u001b[0m\u001b[0;34m\u001b[0m\u001b[0;34m\u001b[0m\u001b[0m\n\u001b[1;32m     41\u001b[0m             \u001b[0mreconst_images\u001b[0m \u001b[0;34m=\u001b[0m \u001b[0mreconst_images\u001b[0m\u001b[0;34m.\u001b[0m\u001b[0mview\u001b[0m\u001b[0;34m(\u001b[0m\u001b[0mreconst_images\u001b[0m\u001b[0;34m.\u001b[0m\u001b[0msize\u001b[0m\u001b[0;34m(\u001b[0m\u001b[0;36m0\u001b[0m\u001b[0;34m)\u001b[0m\u001b[0;34m,\u001b[0m \u001b[0;36m3\u001b[0m\u001b[0;34m,\u001b[0m \u001b[0mred_dim\u001b[0m\u001b[0;34m,\u001b[0m \u001b[0mred_dim\u001b[0m\u001b[0;34m)\u001b[0m\u001b[0;34m\u001b[0m\u001b[0;34m\u001b[0m\u001b[0m\n",
      "\u001b[0;32m/opt/anaconda3/lib/python3.8/site-packages/torch/nn/modules/module.py\u001b[0m in \u001b[0;36m_call_impl\u001b[0;34m(self, *input, **kwargs)\u001b[0m\n\u001b[1;32m   1128\u001b[0m         if not (self._backward_hooks or self._forward_hooks or self._forward_pre_hooks or _global_backward_hooks\n\u001b[1;32m   1129\u001b[0m                 or _global_forward_hooks or _global_forward_pre_hooks):\n\u001b[0;32m-> 1130\u001b[0;31m             \u001b[0;32mreturn\u001b[0m \u001b[0mforward_call\u001b[0m\u001b[0;34m(\u001b[0m\u001b[0;34m*\u001b[0m\u001b[0minput\u001b[0m\u001b[0;34m,\u001b[0m \u001b[0;34m**\u001b[0m\u001b[0mkwargs\u001b[0m\u001b[0;34m)\u001b[0m\u001b[0;34m\u001b[0m\u001b[0;34m\u001b[0m\u001b[0m\n\u001b[0m\u001b[1;32m   1131\u001b[0m         \u001b[0;31m# Do not call functions when jit is used\u001b[0m\u001b[0;34m\u001b[0m\u001b[0;34m\u001b[0m\u001b[0;34m\u001b[0m\u001b[0m\n\u001b[1;32m   1132\u001b[0m         \u001b[0mfull_backward_hooks\u001b[0m\u001b[0;34m,\u001b[0m \u001b[0mnon_full_backward_hooks\u001b[0m \u001b[0;34m=\u001b[0m \u001b[0;34m[\u001b[0m\u001b[0;34m]\u001b[0m\u001b[0;34m,\u001b[0m \u001b[0;34m[\u001b[0m\u001b[0;34m]\u001b[0m\u001b[0;34m\u001b[0m\u001b[0;34m\u001b[0m\u001b[0m\n",
      "\u001b[0;32m<ipython-input-24-0f35a2dfb094>\u001b[0m in \u001b[0;36mforward\u001b[0;34m(self, x)\u001b[0m\n\u001b[1;32m     10\u001b[0m \u001b[0;34m\u001b[0m\u001b[0m\n\u001b[1;32m     11\u001b[0m     \u001b[0;32mdef\u001b[0m \u001b[0mforward\u001b[0m\u001b[0;34m(\u001b[0m\u001b[0mself\u001b[0m\u001b[0;34m,\u001b[0m \u001b[0mx\u001b[0m\u001b[0;34m)\u001b[0m\u001b[0;34m:\u001b[0m\u001b[0;34m\u001b[0m\u001b[0;34m\u001b[0m\u001b[0m\n\u001b[0;32m---> 12\u001b[0;31m         \u001b[0mx\u001b[0m \u001b[0;34m=\u001b[0m \u001b[0mF\u001b[0m\u001b[0;34m.\u001b[0m\u001b[0mdropout\u001b[0m\u001b[0;34m(\u001b[0m\u001b[0mself\u001b[0m\u001b[0;34m.\u001b[0m\u001b[0mlin1\u001b[0m\u001b[0;34m(\u001b[0m\u001b[0mx\u001b[0m\u001b[0;34m)\u001b[0m\u001b[0;34m,\u001b[0m \u001b[0mp\u001b[0m\u001b[0;34m=\u001b[0m\u001b[0;36m0.25\u001b[0m\u001b[0;34m,\u001b[0m \u001b[0mtraining\u001b[0m\u001b[0;34m=\u001b[0m\u001b[0mself\u001b[0m\u001b[0;34m.\u001b[0m\u001b[0mtraining\u001b[0m\u001b[0;34m)\u001b[0m\u001b[0;34m\u001b[0m\u001b[0;34m\u001b[0m\u001b[0m\n\u001b[0m\u001b[1;32m     13\u001b[0m         \u001b[0mx\u001b[0m \u001b[0;34m=\u001b[0m \u001b[0mF\u001b[0m\u001b[0;34m.\u001b[0m\u001b[0mrelu\u001b[0m\u001b[0;34m(\u001b[0m\u001b[0mx\u001b[0m\u001b[0;34m)\u001b[0m\u001b[0;34m\u001b[0m\u001b[0;34m\u001b[0m\u001b[0m\n\u001b[1;32m     14\u001b[0m         \u001b[0mx\u001b[0m \u001b[0;34m=\u001b[0m \u001b[0mF\u001b[0m\u001b[0;34m.\u001b[0m\u001b[0mdropout\u001b[0m\u001b[0;34m(\u001b[0m\u001b[0mself\u001b[0m\u001b[0;34m.\u001b[0m\u001b[0mlin2\u001b[0m\u001b[0;34m(\u001b[0m\u001b[0mx\u001b[0m\u001b[0;34m)\u001b[0m\u001b[0;34m,\u001b[0m \u001b[0mp\u001b[0m\u001b[0;34m=\u001b[0m\u001b[0;36m0.25\u001b[0m\u001b[0;34m,\u001b[0m \u001b[0mtraining\u001b[0m\u001b[0;34m=\u001b[0m\u001b[0mself\u001b[0m\u001b[0;34m.\u001b[0m\u001b[0mtraining\u001b[0m\u001b[0;34m)\u001b[0m\u001b[0;34m\u001b[0m\u001b[0;34m\u001b[0m\u001b[0m\n",
      "\u001b[0;32m/opt/anaconda3/lib/python3.8/site-packages/torch/nn/modules/module.py\u001b[0m in \u001b[0;36m_call_impl\u001b[0;34m(self, *input, **kwargs)\u001b[0m\n\u001b[1;32m   1128\u001b[0m         if not (self._backward_hooks or self._forward_hooks or self._forward_pre_hooks or _global_backward_hooks\n\u001b[1;32m   1129\u001b[0m                 or _global_forward_hooks or _global_forward_pre_hooks):\n\u001b[0;32m-> 1130\u001b[0;31m             \u001b[0;32mreturn\u001b[0m \u001b[0mforward_call\u001b[0m\u001b[0;34m(\u001b[0m\u001b[0;34m*\u001b[0m\u001b[0minput\u001b[0m\u001b[0;34m,\u001b[0m \u001b[0;34m**\u001b[0m\u001b[0mkwargs\u001b[0m\u001b[0;34m)\u001b[0m\u001b[0;34m\u001b[0m\u001b[0;34m\u001b[0m\u001b[0m\n\u001b[0m\u001b[1;32m   1131\u001b[0m         \u001b[0;31m# Do not call functions when jit is used\u001b[0m\u001b[0;34m\u001b[0m\u001b[0;34m\u001b[0m\u001b[0;34m\u001b[0m\u001b[0m\n\u001b[1;32m   1132\u001b[0m         \u001b[0mfull_backward_hooks\u001b[0m\u001b[0;34m,\u001b[0m \u001b[0mnon_full_backward_hooks\u001b[0m \u001b[0;34m=\u001b[0m \u001b[0;34m[\u001b[0m\u001b[0;34m]\u001b[0m\u001b[0;34m,\u001b[0m \u001b[0;34m[\u001b[0m\u001b[0;34m]\u001b[0m\u001b[0;34m\u001b[0m\u001b[0;34m\u001b[0m\u001b[0m\n",
      "\u001b[0;32m/opt/anaconda3/lib/python3.8/site-packages/torch/nn/modules/linear.py\u001b[0m in \u001b[0;36mforward\u001b[0;34m(self, input)\u001b[0m\n\u001b[1;32m    112\u001b[0m \u001b[0;34m\u001b[0m\u001b[0m\n\u001b[1;32m    113\u001b[0m     \u001b[0;32mdef\u001b[0m \u001b[0mforward\u001b[0m\u001b[0;34m(\u001b[0m\u001b[0mself\u001b[0m\u001b[0;34m,\u001b[0m \u001b[0minput\u001b[0m\u001b[0;34m:\u001b[0m \u001b[0mTensor\u001b[0m\u001b[0;34m)\u001b[0m \u001b[0;34m->\u001b[0m \u001b[0mTensor\u001b[0m\u001b[0;34m:\u001b[0m\u001b[0;34m\u001b[0m\u001b[0;34m\u001b[0m\u001b[0m\n\u001b[0;32m--> 114\u001b[0;31m         \u001b[0;32mreturn\u001b[0m \u001b[0mF\u001b[0m\u001b[0;34m.\u001b[0m\u001b[0mlinear\u001b[0m\u001b[0;34m(\u001b[0m\u001b[0minput\u001b[0m\u001b[0;34m,\u001b[0m \u001b[0mself\u001b[0m\u001b[0;34m.\u001b[0m\u001b[0mweight\u001b[0m\u001b[0;34m,\u001b[0m \u001b[0mself\u001b[0m\u001b[0;34m.\u001b[0m\u001b[0mbias\u001b[0m\u001b[0;34m)\u001b[0m\u001b[0;34m\u001b[0m\u001b[0;34m\u001b[0m\u001b[0m\n\u001b[0m\u001b[1;32m    115\u001b[0m \u001b[0;34m\u001b[0m\u001b[0m\n\u001b[1;32m    116\u001b[0m     \u001b[0;32mdef\u001b[0m \u001b[0mextra_repr\u001b[0m\u001b[0;34m(\u001b[0m\u001b[0mself\u001b[0m\u001b[0;34m)\u001b[0m \u001b[0;34m->\u001b[0m \u001b[0mstr\u001b[0m\u001b[0;34m:\u001b[0m\u001b[0;34m\u001b[0m\u001b[0;34m\u001b[0m\u001b[0m\n",
      "\u001b[0;31mRuntimeError\u001b[0m: mat1 and mat2 shapes cannot be multiplied (192x64 and 12288x1000)"
     ]
    }
   ],
   "source": [
    "for epoch in range(num_epochs):\n",
    "    t0 = time()\n",
    "    for i in range(trial_number):\n",
    "        \n",
    "        # flatten the image\n",
    "        image = image.type(torch.float32)\n",
    "        image = to_var(image.view(image.size(0), -1))\n",
    "        \n",
    "        # Reconstruction loss\n",
    "        P.zero_grad()\n",
    "        Q.zero_grad()\n",
    "        D_gauss.zero_grad()\n",
    "\n",
    "        z_sample   = Q(image)   # encode to z\n",
    "        X_sample   = P(z_sample) # decode to X reconstruction\n",
    "        recon_loss = F.binary_cross_entropy(X_sample+EPS, image+EPS)\n",
    "        \n",
    "        recon_loss.backward()\n",
    "        optim_P.step()\n",
    "        optim_Q_enc.step()\n",
    "\n",
    "        # Discriminator\n",
    "        ## true prior is random normal (randn)\n",
    "        ## this is constraining the Z-projection to be normal!\n",
    "\n",
    "        Q.eval()\n",
    "        z_real_gauss = to_var(torch.randn(image.size()[0], z_red_dims) * 5.)\n",
    "        D_real_gauss = D_gauss(z_real_gauss)\n",
    "\n",
    "        z_fake_gauss = Q(image)\n",
    "        D_fake_gauss = D_gauss(z_fake_gauss)\n",
    "\n",
    "        D_loss = -torch.mean(torch.log(D_real_gauss + EPS) + torch.log(1 - D_fake_gauss + EPS))\n",
    "\n",
    "        D_loss.backward()\n",
    "        optim_D.step()\n",
    "        \n",
    "        if (epoch+1) % 1 == 0:\n",
    "            z_fixed        = Q(trial_image)   # encode to z\n",
    "            reconst_images = P(z_fixed)   # decode to X reconstruction\n",
    "            reconst_images = reconst_images.view(reconst_images.size(0), 3, red_dim, red_dim)\n",
    "    #         torchvision.utils.save_image(reconst_images.data.cpu(), './data/reconst_images_%d.png' % int((step+1)/iter_per_epoch))\n",
    "\n",
    "            z_sample       = to_var(torch.randn(image.size()[0], z_red_dims) * 5.)\n",
    "            sample_images  = P(z_sample)\n",
    "            sample_images  = sample_images.view(sample_images.size(0), 3, red_dim, red_dim)\n",
    "    #         torchvision.utils.save_image(sample_images.data.cpu(), './results/sample_images_%d.png' % int((step+1)/iter_per_epoch))"
   ]
  },
  {
   "cell_type": "markdown",
   "id": "0c2e6d65",
   "metadata": {},
   "source": [
    "## Verifying on Train Data"
   ]
  },
  {
   "cell_type": "code",
   "execution_count": null,
   "id": "8911e57e",
   "metadata": {},
   "outputs": [],
   "source": [
    "# random_ip_image = image[trial_number-1,:,:,:]\n",
    "new_ip_image = trial_image.view(3, red_dim, red_dim)\n",
    "print(new_ip_image.dtype)\n",
    "transform_toimage = transforms.ToPILImage()\n",
    "\n",
    "# plt.imshow(transform_toimage(new_out_image))\n",
    "plt.imshow(new_ip_image.permute(1,2,0))"
   ]
  },
  {
   "cell_type": "code",
   "execution_count": null,
   "id": "1272a518",
   "metadata": {},
   "outputs": [],
   "source": [
    "ip_image = trial_image.type(torch.float32)\n",
    "print(ip_image.size())\n",
    "ip_image = torch.flatten(to_var(ip_image.view(ip_image.size(0), -1)))\n",
    "print(ip_image.size())\n",
    "recon_image = ae(ip_image)\n",
    "print(recon_image.size())\n",
    "recon_image = recon_image.reshape(3,red_dim,red_dim)\n",
    "print(recon_image.size())\n",
    "\n",
    "\n",
    "transform_toimage = transforms.ToPILImage()\n",
    "\n",
    "plt.imshow(transform_toimage(recon_image))"
   ]
  },
  {
   "cell_type": "markdown",
   "id": "e40b2dea",
   "metadata": {},
   "source": [
    "## Testing Data"
   ]
  },
  {
   "cell_type": "code",
   "execution_count": null,
   "id": "7bb157af",
   "metadata": {},
   "outputs": [],
   "source": [
    "number = trial_number+2000\n",
    "# test_image = torch.tensor(np.zeros(shape = (1,3,red_dim,red_dim)))\n",
    "\n",
    "test_name = train_data.iloc[number,0]\n",
    "print('name:', name)\n",
    "\n",
    "test_file_path = path + test_name + '/'+ test_name + '_0001' +'.jpg'\n",
    "test_image = img2tensor(test_file_path)\n",
    "\n",
    "plt.imshow(test_image.permute(1, 2, 0)  )"
   ]
  },
  {
   "cell_type": "code",
   "execution_count": null,
   "id": "e8216977",
   "metadata": {},
   "outputs": [],
   "source": [
    "test_ip_image = test_image.type(torch.float32)\n",
    "print(test_ip_image.size())\n",
    "test_ip_image = torch.flatten(to_var(test_ip_image.view(test_ip_image.size(0), -1)))\n",
    "print(test_ip_image.size())\n",
    "test_recon_image = ae(test_ip_image)\n",
    "test_recon_image = test_recon_image.type(torch.float32)\n",
    "print(test_recon_image.size())\n",
    "# test_recon_loss = loss(test_recon_image, test_ip_image)\n",
    "# print('Loss:', test_recon_loss)\n",
    "test_recon_image = test_recon_image.reshape(3,red_dim,red_dim)\n",
    "print(recon_image.size())\n",
    "\n",
    "\n",
    "transform_toimage = transforms.ToPILImage()\n",
    "\n",
    "plt.imshow(transform_toimage(test_recon_image))"
   ]
  },
  {
   "cell_type": "code",
   "execution_count": null,
   "id": "27d05051",
   "metadata": {},
   "outputs": [],
   "source": []
  }
 ],
 "metadata": {
  "kernelspec": {
   "display_name": "Python 3",
   "language": "python",
   "name": "python3"
  },
  "language_info": {
   "codemirror_mode": {
    "name": "ipython",
    "version": 3
   },
   "file_extension": ".py",
   "mimetype": "text/x-python",
   "name": "python",
   "nbconvert_exporter": "python",
   "pygments_lexer": "ipython3",
   "version": "3.8.8"
  }
 },
 "nbformat": 4,
 "nbformat_minor": 5
}
