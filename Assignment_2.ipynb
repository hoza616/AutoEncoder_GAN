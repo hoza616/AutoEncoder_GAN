{
 "cells": [
  {
   "cell_type": "markdown",
   "id": "00716688",
   "metadata": {},
   "source": [
    "## Importing Libraries"
   ]
  },
  {
   "cell_type": "code",
   "execution_count": 1,
   "id": "732b8643",
   "metadata": {},
   "outputs": [],
   "source": [
    "import os #will be used for creating directories, etc.\n",
    "\n",
    "import numpy as np\n",
    "import matplotlib.pyplot as plt\n",
    "import pandas as pd\n",
    "from pandas import DataFrame\n",
    "\n",
    "import torch\n",
    "import torchvision\n",
    "import torchvision.datasets as dsets             #for downloading dataset\n",
    "import torchvision.transforms as transforms      #for transforming dataset into tensors\n",
    "\n",
    "from torch import nn\n",
    "from torch.autograd import Variable\n",
    "import torchvision.transforms.functional as fn\n",
    "\n",
    "from PIL import Image\n",
    "\n",
    "from time import time"
   ]
  },
  {
   "cell_type": "markdown",
   "id": "452bf1fb",
   "metadata": {},
   "source": [
    "## Uploading Data"
   ]
  },
  {
   "cell_type": "code",
   "execution_count": 2,
   "id": "191156ef",
   "metadata": {},
   "outputs": [
    {
     "name": "stdout",
     "output_type": "stream",
     "text": [
      "number of different names 4038\n",
      "Arnold_Schwarzenegger\n"
     ]
    }
   ],
   "source": [
    "train_data = pd.read_csv('archive/peopleDevTrain.csv')\n",
    "\n",
    "no_of_diff_people = train_data.shape[0]\n",
    "\n",
    "print('number of different names', train_data.shape[0])\n",
    "print(train_data.iloc[278,0])"
   ]
  },
  {
   "cell_type": "code",
   "execution_count": 3,
   "id": "19cc5c7c",
   "metadata": {},
   "outputs": [
    {
     "name": "stdout",
     "output_type": "stream",
     "text": [
      "(64, 64)\n"
     ]
    }
   ],
   "source": [
    "img = Image.open(\"archive/lfw-deepfunneled/lfw-deepfunneled/Aaron_Eckhart/Aaron_Eckhart_0001.jpg\")\n",
    "\n",
    "red_dim = 64\n",
    "img = fn.resize(img, size=[red_dim, red_dim])\n",
    "\n",
    "img\n",
    "\n",
    "convert_tensor = transforms.Compose([\n",
    "    transforms.ToTensor()\n",
    "])\n",
    "\n",
    "convert_tensor(img)\n",
    "\n",
    "print(img.size)"
   ]
  },
  {
   "cell_type": "code",
   "execution_count": 4,
   "id": "0851075a",
   "metadata": {},
   "outputs": [],
   "source": [
    "def img2tensor (filepath):\n",
    "    img = Image.open(filepath)\n",
    "    img = fn.resize(img, size=[red_dim, red_dim])\n",
    "    image = convert_tensor(img)\n",
    "    return image"
   ]
  },
  {
   "cell_type": "code",
   "execution_count": 5,
   "id": "9db9729c",
   "metadata": {},
   "outputs": [],
   "source": [
    "trial_number = 100\n",
    "image = torch.tensor(np.zeros(shape= (trial_number,3,red_dim,red_dim)))\n",
    "for number in range(trial_number):\n",
    "    name = train_data.iloc[number,0]\n",
    "    no_of_images = train_data.iloc[number,1]\n",
    "#     print(name)\n",
    "#     print(no_of_images)\n",
    "\n",
    "    for i in range(no_of_images):\n",
    "        path = \"archive/lfw-deepfunneled/lfw-deepfunneled/\"\n",
    "        photo_number = i+1\n",
    "        if i < 9:\n",
    "            file_path = path + name + '/'+ name + '_000'  + str(photo_number) +'.jpg'\n",
    "        elif i>9:\n",
    "            file_path = path + name + '/'+ name + '_00'  + str(photo_number) +'.jpg'\n",
    "        else:\n",
    "            break\n",
    "            \n",
    "#         file_path = path + name + '/'+ name + '_0001' +'.jpg'\n",
    "        image[number,:,:,:] = img2tensor(file_path)\n",
    "#         print(image.size())\n"
   ]
  },
  {
   "cell_type": "code",
   "execution_count": 6,
   "id": "ee37a97f",
   "metadata": {},
   "outputs": [
    {
     "name": "stdout",
     "output_type": "stream",
     "text": [
      "torch.Size([3, 64, 64])\n"
     ]
    },
    {
     "data": {
      "text/plain": [
       "<matplotlib.image.AxesImage at 0x7fa5fbd64520>"
      ]
     },
     "execution_count": 6,
     "metadata": {},
     "output_type": "execute_result"
    },
    {
     "data": {
      "image/png": "[encoded data removed]",
      "text/plain": [
       "<Figure size 432x288 with 1 Axes>"
      ]
     },
     "metadata": {
      "needs_background": "light"
     },
     "output_type": "display_data"
    }
   ],
   "source": [
    "trial_image = image[trial_number-1,:,:,:]\n",
    "print(trial_image.size())\n",
    "plt.imshow(trial_image.permute(1, 2, 0)  )"
   ]
  },
  {
   "cell_type": "code",
   "execution_count": 7,
   "id": "ecea2c61",
   "metadata": {},
   "outputs": [],
   "source": [
    "def to_var(x):\n",
    "    if torch.cuda.is_available():\n",
    "        x = x.dtype(float32)\n",
    "    return Variable(x)"
   ]
  },
  {
   "cell_type": "code",
   "execution_count": 8,
   "id": "cb663fe2",
   "metadata": {},
   "outputs": [
    {
     "name": "stdout",
     "output_type": "stream",
     "text": [
      "torch.Size([100, 12288])\n",
      "torch.Size([100, 12288])\n"
     ]
    }
   ],
   "source": [
    "image = to_var(image.view(image.size(0), -1))\n",
    "print(image.size())\n",
    "# image = torch.flatten(image)\n",
    "print(image.size())\n",
    "input_dim = image.size()"
   ]
  },
  {
   "cell_type": "markdown",
   "id": "7bb48705",
   "metadata": {},
   "source": [
    "## Training Parameters"
   ]
  },
  {
   "cell_type": "markdown",
   "id": "51717892",
   "metadata": {},
   "source": [
    "## Create Auto Encoder"
   ]
  },
  {
   "cell_type": "code",
   "execution_count": 9,
   "id": "56d16d46",
   "metadata": {},
   "outputs": [],
   "source": [
    "class Autoencoder(nn.Module):\n",
    "    def __init__(self, in_dim=3*red_dim*red_dim, h_dim=100):\n",
    "        super(Autoencoder, self).__init__()\n",
    "        \n",
    "        self.encoder = nn.Sequential(\n",
    "            nn.Linear(in_dim, h_dim*2),\n",
    "            nn.ReLU(),\n",
    "            nn.Linear(h_dim*2, h_dim),\n",
    "            nn.ReLU(),\n",
    "        )\n",
    "        \n",
    "        self.decoder = nn.Sequential(\n",
    "            nn.Linear(h_dim, h_dim*2),\n",
    "            nn.Sigmoid(),\n",
    "            nn.Linear(h_dim*2, in_dim),\n",
    "            nn.Sigmoid()\n",
    "        )\n",
    "        \n",
    "    def forward(self, x):\n",
    "        out = self.encoder(x)\n",
    "        out = self.decoder(out)\n",
    "        return out"
   ]
  },
  {
   "cell_type": "code",
   "execution_count": 10,
   "id": "a16f3212",
   "metadata": {},
   "outputs": [],
   "source": [
    "num_epochs = 200\n",
    "hidden_size = 20     #size of the bottleneck layer\n",
    "\n",
    "# Create Autoencoder model\n",
    "ae = Autoencoder(in_dim=3*red_dim*red_dim, h_dim=hidden_size)\n"
   ]
  },
  {
   "cell_type": "code",
   "execution_count": 11,
   "id": "0c7d9a5d",
   "metadata": {},
   "outputs": [],
   "source": [
    "criterion = nn.MSELoss()     #Binary cross-entropy loss for each pixel\n",
    "optimizer = torch.optim.Adam(ae.parameters(), lr=0.001)"
   ]
  },
  {
   "cell_type": "code",
   "execution_count": 12,
   "id": "f7fde9db",
   "metadata": {},
   "outputs": [],
   "source": [
    "image = image.type(torch.float32)\n",
    "out_image = ae(image)\n",
    "out_image = out_image.type(torch.float32)\n",
    "loss = criterion(out_image, image)\n",
    "        \n",
    "optimizer.zero_grad()\n",
    "loss.backward()         # calculate gradients\n",
    "optimizer.step() "
   ]
  },
  {
   "cell_type": "markdown",
   "id": "800c4184",
   "metadata": {},
   "source": [
    "## Training"
   ]
  },
  {
   "cell_type": "code",
   "execution_count": 13,
   "id": "c1575157",
   "metadata": {},
   "outputs": [
    {
     "name": "stdout",
     "output_type": "stream",
     "text": [
      "Epoch [1/200], Iter [100] Loss: 0.0559 Time: 1.94s\n",
      "Epoch [2/200], Iter [100] Loss: 0.0460 Time: 1.80s\n",
      "Epoch [3/200], Iter [100] Loss: 0.0399 Time: 1.76s\n",
      "Epoch [4/200], Iter [100] Loss: 0.0358 Time: 1.89s\n",
      "Epoch [5/200], Iter [100] Loss: 0.0325 Time: 2.09s\n",
      "Epoch [6/200], Iter [100] Loss: 0.0298 Time: 1.95s\n",
      "Epoch [7/200], Iter [100] Loss: 0.0276 Time: 2.05s\n",
      "Epoch [8/200], Iter [100] Loss: 0.0257 Time: 2.08s\n",
      "Epoch [9/200], Iter [100] Loss: 0.0242 Time: 2.11s\n",
      "Epoch [10/200], Iter [100] Loss: 0.0229 Time: 2.18s\n",
      "Epoch [11/200], Iter [100] Loss: 0.0218 Time: 2.16s\n",
      "Epoch [12/200], Iter [100] Loss: 0.0208 Time: 2.15s\n",
      "Epoch [13/200], Iter [100] Loss: 0.0201 Time: 2.02s\n",
      "Epoch [14/200], Iter [100] Loss: 0.0193 Time: 1.99s\n",
      "Epoch [15/200], Iter [100] Loss: 0.0187 Time: 2.01s\n",
      "Epoch [16/200], Iter [100] Loss: 0.0181 Time: 2.07s\n",
      "Epoch [17/200], Iter [100] Loss: 0.0176 Time: 1.82s\n",
      "Epoch [18/200], Iter [100] Loss: 0.0172 Time: 1.84s\n",
      "Epoch [19/200], Iter [100] Loss: 0.0168 Time: 1.93s\n",
      "Epoch [20/200], Iter [100] Loss: 0.0164 Time: 1.85s\n",
      "Epoch [21/200], Iter [100] Loss: 0.0160 Time: 1.93s\n",
      "Epoch [22/200], Iter [100] Loss: 0.0158 Time: 1.95s\n",
      "Epoch [23/200], Iter [100] Loss: 0.0155 Time: 1.98s\n",
      "Epoch [24/200], Iter [100] Loss: 0.0152 Time: 1.89s\n",
      "Epoch [25/200], Iter [100] Loss: 0.0150 Time: 1.89s\n",
      "Epoch [26/200], Iter [100] Loss: 0.0148 Time: 1.86s\n",
      "Epoch [27/200], Iter [100] Loss: 0.0144 Time: 2.01s\n",
      "Epoch [28/200], Iter [100] Loss: 0.0143 Time: 1.92s\n",
      "Epoch [29/200], Iter [100] Loss: 0.0141 Time: 2.07s\n",
      "Epoch [30/200], Iter [100] Loss: 0.0140 Time: 2.00s\n",
      "Epoch [31/200], Iter [100] Loss: 0.0138 Time: 2.30s\n",
      "Epoch [32/200], Iter [100] Loss: 0.0137 Time: 1.95s\n",
      "Epoch [33/200], Iter [100] Loss: 0.0135 Time: 1.90s\n",
      "Epoch [34/200], Iter [100] Loss: 0.0134 Time: 1.89s\n",
      "Epoch [35/200], Iter [100] Loss: 0.0133 Time: 2.01s\n",
      "Epoch [36/200], Iter [100] Loss: 0.0131 Time: 2.05s\n",
      "Epoch [37/200], Iter [100] Loss: 0.0130 Time: 1.99s\n",
      "Epoch [38/200], Iter [100] Loss: 0.0128 Time: 2.02s\n",
      "Epoch [39/200], Iter [100] Loss: 0.0128 Time: 2.07s\n",
      "Epoch [40/200], Iter [100] Loss: 0.0126 Time: 2.01s\n",
      "Epoch [41/200], Iter [100] Loss: 0.0126 Time: 2.07s\n",
      "Epoch [42/200], Iter [100] Loss: 0.0125 Time: 2.06s\n",
      "Epoch [43/200], Iter [100] Loss: 0.0124 Time: 2.09s\n",
      "Epoch [44/200], Iter [100] Loss: 0.0124 Time: 2.07s\n",
      "Epoch [45/200], Iter [100] Loss: 0.0123 Time: 2.08s\n",
      "Epoch [46/200], Iter [100] Loss: 0.0122 Time: 2.01s\n",
      "Epoch [47/200], Iter [100] Loss: 0.0121 Time: 2.08s\n",
      "Epoch [48/200], Iter [100] Loss: 0.0120 Time: 2.03s\n",
      "Epoch [49/200], Iter [100] Loss: 0.0120 Time: 2.03s\n",
      "Epoch [50/200], Iter [100] Loss: 0.0119 Time: 2.11s\n",
      "Epoch [51/200], Iter [100] Loss: 0.0118 Time: 2.09s\n",
      "Epoch [52/200], Iter [100] Loss: 0.0118 Time: 2.05s\n",
      "Epoch [53/200], Iter [100] Loss: 0.0117 Time: 2.01s\n",
      "Epoch [54/200], Iter [100] Loss: 0.0119 Time: 2.04s\n",
      "Epoch [55/200], Iter [100] Loss: 0.0116 Time: 2.08s\n",
      "Epoch [56/200], Iter [100] Loss: 0.0116 Time: 2.11s\n",
      "Epoch [57/200], Iter [100] Loss: 0.0116 Time: 2.02s\n",
      "Epoch [58/200], Iter [100] Loss: 0.0115 Time: 2.06s\n",
      "Epoch [59/200], Iter [100] Loss: 0.0115 Time: 2.12s\n",
      "Epoch [60/200], Iter [100] Loss: 0.0114 Time: 2.09s\n",
      "Epoch [61/200], Iter [100] Loss: 0.0114 Time: 2.07s\n",
      "Epoch [62/200], Iter [100] Loss: 0.0113 Time: 2.14s\n",
      "Epoch [63/200], Iter [100] Loss: 0.0113 Time: 2.15s\n",
      "Epoch [64/200], Iter [100] Loss: 0.0112 Time: 2.07s\n",
      "Epoch [65/200], Iter [100] Loss: 0.0112 Time: 2.07s\n",
      "Epoch [66/200], Iter [100] Loss: 0.0112 Time: 2.04s\n",
      "Epoch [67/200], Iter [100] Loss: 0.0111 Time: 2.07s\n",
      "Epoch [68/200], Iter [100] Loss: 0.0112 Time: 2.07s\n",
      "Epoch [69/200], Iter [100] Loss: 0.0111 Time: 2.02s\n",
      "Epoch [70/200], Iter [100] Loss: 0.0110 Time: 2.07s\n",
      "Epoch [71/200], Iter [100] Loss: 0.0110 Time: 2.07s\n",
      "Epoch [72/200], Iter [100] Loss: 0.0110 Time: 2.05s\n",
      "Epoch [73/200], Iter [100] Loss: 0.0111 Time: 1.97s\n",
      "Epoch [74/200], Iter [100] Loss: 0.0111 Time: 2.09s\n",
      "Epoch [75/200], Iter [100] Loss: 0.0110 Time: 2.03s\n",
      "Epoch [76/200], Iter [100] Loss: 0.0109 Time: 2.04s\n",
      "Epoch [77/200], Iter [100] Loss: 0.0109 Time: 2.07s\n",
      "Epoch [78/200], Iter [100] Loss: 0.0108 Time: 2.08s\n",
      "Epoch [79/200], Iter [100] Loss: 0.0108 Time: 2.07s\n",
      "Epoch [80/200], Iter [100] Loss: 0.0109 Time: 2.07s\n",
      "Epoch [81/200], Iter [100] Loss: 0.0108 Time: 1.98s\n",
      "Epoch [82/200], Iter [100] Loss: 0.0107 Time: 2.06s\n",
      "Epoch [83/200], Iter [100] Loss: 0.0107 Time: 2.05s\n",
      "Epoch [84/200], Iter [100] Loss: 0.0107 Time: 2.10s\n",
      "Epoch [85/200], Iter [100] Loss: 0.0108 Time: 2.06s\n",
      "Epoch [86/200], Iter [100] Loss: 0.0107 Time: 2.04s\n",
      "Epoch [87/200], Iter [100] Loss: 0.0106 Time: 2.06s\n",
      "Epoch [88/200], Iter [100] Loss: 0.0107 Time: 2.07s\n",
      "Epoch [89/200], Iter [100] Loss: 0.0107 Time: 2.06s\n",
      "Epoch [90/200], Iter [100] Loss: 0.0106 Time: 2.15s\n",
      "Epoch [91/200], Iter [100] Loss: 0.0106 Time: 2.17s\n",
      "Epoch [92/200], Iter [100] Loss: 0.0106 Time: 2.08s\n",
      "Epoch [93/200], Iter [100] Loss: 0.0105 Time: 2.11s\n",
      "Epoch [94/200], Iter [100] Loss: 0.0105 Time: 1.97s\n",
      "Epoch [95/200], Iter [100] Loss: 0.0106 Time: 1.92s\n",
      "Epoch [96/200], Iter [100] Loss: 0.0105 Time: 2.03s\n",
      "Epoch [97/200], Iter [100] Loss: 0.0105 Time: 2.08s\n",
      "Epoch [98/200], Iter [100] Loss: 0.0106 Time: 2.15s\n",
      "Epoch [99/200], Iter [100] Loss: 0.0104 Time: 2.25s\n",
      "Epoch [100/200], Iter [100] Loss: 0.0104 Time: 2.12s\n",
      "Epoch [101/200], Iter [100] Loss: 0.0105 Time: 2.17s\n",
      "Epoch [102/200], Iter [100] Loss: 0.0104 Time: 900.96s\n",
      "Epoch [103/200], Iter [100] Loss: 0.0105 Time: 2.20s\n",
      "Epoch [104/200], Iter [100] Loss: 0.0104 Time: 2.16s\n",
      "Epoch [105/200], Iter [100] Loss: 0.0104 Time: 902.48s\n",
      "Epoch [106/200], Iter [100] Loss: 0.0103 Time: 2.41s\n",
      "Epoch [107/200], Iter [100] Loss: 0.0103 Time: 2.33s\n",
      "Epoch [108/200], Iter [100] Loss: 0.0103 Time: 2.91s\n",
      "Epoch [109/200], Iter [100] Loss: 0.0103 Time: 2.36s\n",
      "Epoch [110/200], Iter [100] Loss: 0.0103 Time: 2.23s\n",
      "Epoch [111/200], Iter [100] Loss: 0.0103 Time: 901.07s\n",
      "Epoch [112/200], Iter [100] Loss: 0.0102 Time: 1.97s\n",
      "Epoch [113/200], Iter [100] Loss: 0.0103 Time: 2.13s\n",
      "Epoch [114/200], Iter [100] Loss: 0.0103 Time: 2.23s\n",
      "Epoch [115/200], Iter [100] Loss: 0.0102 Time: 902.70s\n",
      "Epoch [116/200], Iter [100] Loss: 0.0103 Time: 2.14s\n",
      "Epoch [117/200], Iter [100] Loss: 0.0103 Time: 2.10s\n",
      "Epoch [118/200], Iter [100] Loss: 0.0102 Time: 2.26s\n",
      "Epoch [119/200], Iter [100] Loss: 0.0102 Time: 2.13s\n",
      "Epoch [120/200], Iter [100] Loss: 0.0102 Time: 900.52s\n",
      "Epoch [121/200], Iter [100] Loss: 0.0103 Time: 2.19s\n",
      "Epoch [122/200], Iter [100] Loss: 0.0102 Time: 2.12s\n",
      "Epoch [123/200], Iter [100] Loss: 0.0102 Time: 900.79s\n",
      "Epoch [124/200], Iter [100] Loss: 0.0103 Time: 2.09s\n",
      "Epoch [125/200], Iter [100] Loss: 0.0102 Time: 2.16s\n",
      "Epoch [126/200], Iter [100] Loss: 0.0101 Time: 2.21s\n",
      "Epoch [127/200], Iter [100] Loss: 0.0102 Time: 2.20s\n",
      "Epoch [128/200], Iter [100] Loss: 0.0102 Time: 900.64s\n",
      "Epoch [129/200], Iter [100] Loss: 0.0101 Time: 2.30s\n",
      "Epoch [130/200], Iter [100] Loss: 0.0102 Time: 2.20s\n",
      "Epoch [131/200], Iter [100] Loss: 0.0102 Time: 902.52s\n",
      "Epoch [132/200], Iter [100] Loss: 0.0102 Time: 2.11s\n",
      "Epoch [133/200], Iter [100] Loss: 0.0101 Time: 2.20s\n",
      "Epoch [134/200], Iter [100] Loss: 0.0102 Time: 475.31s\n",
      "Epoch [135/200], Iter [100] Loss: 0.0101 Time: 2.86s\n",
      "Epoch [136/200], Iter [100] Loss: 0.0101 Time: 1.95s\n",
      "Epoch [137/200], Iter [100] Loss: 0.0102 Time: 2.16s\n",
      "Epoch [138/200], Iter [100] Loss: 0.0101 Time: 2.06s\n",
      "Epoch [139/200], Iter [100] Loss: 0.0101 Time: 2.06s\n",
      "Epoch [140/200], Iter [100] Loss: 0.0101 Time: 2.01s\n",
      "Epoch [141/200], Iter [100] Loss: 0.0101 Time: 1.89s\n",
      "Epoch [142/200], Iter [100] Loss: 0.0101 Time: 2.01s\n",
      "Epoch [143/200], Iter [100] Loss: 0.0101 Time: 1.85s\n",
      "Epoch [144/200], Iter [100] Loss: 0.0102 Time: 1.82s\n",
      "Epoch [145/200], Iter [100] Loss: 0.0100 Time: 1.82s\n",
      "Epoch [146/200], Iter [100] Loss: 0.0101 Time: 1.83s\n",
      "Epoch [147/200], Iter [100] Loss: 0.0100 Time: 1.81s\n",
      "Epoch [148/200], Iter [100] Loss: 0.0101 Time: 1.90s\n",
      "Epoch [149/200], Iter [100] Loss: 0.0100 Time: 2.01s\n",
      "Epoch [150/200], Iter [100] Loss: 0.0100 Time: 2.06s\n",
      "Epoch [151/200], Iter [100] Loss: 0.0100 Time: 2.12s\n",
      "Epoch [152/200], Iter [100] Loss: 0.0100 Time: 1.96s\n",
      "Epoch [153/200], Iter [100] Loss: 0.0100 Time: 1.96s\n",
      "Epoch [154/200], Iter [100] Loss: 0.0100 Time: 2.07s\n",
      "Epoch [155/200], Iter [100] Loss: 0.0101 Time: 2.08s\n",
      "Epoch [156/200], Iter [100] Loss: 0.0100 Time: 2.12s\n",
      "Epoch [157/200], Iter [100] Loss: 0.0100 Time: 1.85s\n"
     ]
    },
    {
     "name": "stdout",
     "output_type": "stream",
     "text": [
      "Epoch [158/200], Iter [100] Loss: 0.0100 Time: 1.80s\n",
      "Epoch [159/200], Iter [100] Loss: 0.0101 Time: 1.89s\n",
      "Epoch [160/200], Iter [100] Loss: 0.0100 Time: 1.95s\n",
      "Epoch [161/200], Iter [100] Loss: 0.0100 Time: 1.93s\n",
      "Epoch [162/200], Iter [100] Loss: 0.0100 Time: 1.89s\n",
      "Epoch [163/200], Iter [100] Loss: 0.0099 Time: 1.90s\n",
      "Epoch [164/200], Iter [100] Loss: 0.0100 Time: 2.01s\n",
      "Epoch [165/200], Iter [100] Loss: 0.0099 Time: 1.93s\n",
      "Epoch [166/200], Iter [100] Loss: 0.0099 Time: 1.89s\n",
      "Epoch [167/200], Iter [100] Loss: 0.0101 Time: 1.98s\n",
      "Epoch [168/200], Iter [100] Loss: 0.0100 Time: 2.00s\n",
      "Epoch [169/200], Iter [100] Loss: 0.0100 Time: 1.93s\n",
      "Epoch [170/200], Iter [100] Loss: 0.0099 Time: 1.92s\n",
      "Epoch [171/200], Iter [100] Loss: 0.0099 Time: 1.96s\n",
      "Epoch [172/200], Iter [100] Loss: 0.0099 Time: 1.82s\n",
      "Epoch [173/200], Iter [100] Loss: 0.0100 Time: 1.95s\n",
      "Epoch [174/200], Iter [100] Loss: 0.0099 Time: 1.93s\n",
      "Epoch [175/200], Iter [100] Loss: 0.0100 Time: 1.91s\n",
      "Epoch [176/200], Iter [100] Loss: 0.0100 Time: 1.85s\n",
      "Epoch [177/200], Iter [100] Loss: 0.0100 Time: 1.91s\n",
      "Epoch [178/200], Iter [100] Loss: 0.0100 Time: 1.86s\n",
      "Epoch [179/200], Iter [100] Loss: 0.0099 Time: 1.96s\n",
      "Epoch [180/200], Iter [100] Loss: 0.0099 Time: 2.14s\n",
      "Epoch [181/200], Iter [100] Loss: 0.0100 Time: 2.09s\n",
      "Epoch [182/200], Iter [100] Loss: 0.0099 Time: 2.17s\n",
      "Epoch [183/200], Iter [100] Loss: 0.0099 Time: 2.09s\n",
      "Epoch [184/200], Iter [100] Loss: 0.0099 Time: 2.15s\n",
      "Epoch [185/200], Iter [100] Loss: 0.0099 Time: 2.19s\n",
      "Epoch [186/200], Iter [100] Loss: 0.0098 Time: 2.23s\n",
      "Epoch [187/200], Iter [100] Loss: 0.0099 Time: 2.13s\n",
      "Epoch [188/200], Iter [100] Loss: 0.0098 Time: 2.14s\n",
      "Epoch [189/200], Iter [100] Loss: 0.0099 Time: 2.17s\n",
      "Epoch [190/200], Iter [100] Loss: 0.0098 Time: 2.13s\n",
      "Epoch [191/200], Iter [100] Loss: 0.0099 Time: 2.15s\n",
      "Epoch [192/200], Iter [100] Loss: 0.0098 Time: 2.12s\n",
      "Epoch [193/200], Iter [100] Loss: 0.0099 Time: 2.18s\n",
      "Epoch [194/200], Iter [100] Loss: 0.0099 Time: 2.13s\n",
      "Epoch [195/200], Iter [100] Loss: 0.0098 Time: 1.89s\n",
      "Epoch [196/200], Iter [100] Loss: 0.0100 Time: 1.99s\n",
      "Epoch [197/200], Iter [100] Loss: 0.0098 Time: 1.99s\n",
      "Epoch [198/200], Iter [100] Loss: 0.0099 Time: 1.93s\n",
      "Epoch [199/200], Iter [100] Loss: 0.0098 Time: 1.95s\n",
      "Epoch [200/200], Iter [100] Loss: 0.0098 Time: 1.95s\n"
     ]
    }
   ],
   "source": [
    "for epoch in range(num_epochs):\n",
    "    t0 = time()\n",
    "    for i in range(trial_number):\n",
    "        \n",
    "        # flatten the image\n",
    "        image = image.type(torch.float32)\n",
    "        image = to_var(image.view(image.size(0), -1))\n",
    "        out = ae(image)\n",
    "        out_image = out_image.type(torch.float32)\n",
    "        loss = criterion(out, image)\n",
    "        \n",
    "        optimizer.zero_grad()\n",
    "        loss.backward()         # calculate gradients\n",
    "        optimizer.step()        # update parameters\n",
    "        \n",
    "    print ('Epoch [%d/%d], Iter [%d] Loss: %.4f Time: %.2fs' \n",
    "                %(epoch+1, num_epochs, i+1, loss.item(), time()-t0))\n",
    "            \n",
    "        \n",
    "#         display training process after every 100 iterations\n",
    "#         if (i+1) % 100 == 0:\n",
    "#             print ('Epoch [%d/%d], Iter [%d/%d] Loss: %.4f Time: %.2fs' \n",
    "#                 %(epoch+1, num_epochs, i+1, len(dataset)//batch_size, loss.item(), time()-t0))\n",
    "            \n",
    "    # save the reconstructed images\n",
    "#     reconst_images = ae(fixed_x)\n",
    "#     print(reconst_images.size())\n",
    "#     reconst_images = reconst_images.view(reconst_images.size(0), 3, 250, 250)"
   ]
  },
  {
   "cell_type": "markdown",
   "id": "d68e8f03",
   "metadata": {},
   "source": [
    "## Verifying on Train Data"
   ]
  },
  {
   "cell_type": "code",
   "execution_count": 14,
   "id": "e9425cbc",
   "metadata": {},
   "outputs": [
    {
     "name": "stdout",
     "output_type": "stream",
     "text": [
      "torch.float64\n"
     ]
    },
    {
     "data": {
      "text/plain": [
       "<Figure size 432x288 with 0 Axes>"
      ]
     },
     "metadata": {},
     "output_type": "display_data"
    }
   ],
   "source": [
    "# random_ip_image = image[trial_number-1,:,:,:]\n",
    "new_ip_image = trial_image.view(3, red_dim, red_dim)\n",
    "print(new_ip_image.dtype)\n",
    "transform_toimage = transforms.ToPILImage()\n",
    "\n",
    "# plt.imshow(transform_toimage(new_out_image))\n",
    "\n",
    "# plt.imshow(new_ip_image.permute(1,2,0))\n",
    "plt.savefig('actual 1.png')"
   ]
  },
  {
   "cell_type": "code",
   "execution_count": 15,
   "id": "9578099c",
   "metadata": {},
   "outputs": [
    {
     "name": "stdout",
     "output_type": "stream",
     "text": [
      "torch.Size([3, 64, 64])\n",
      "torch.Size([12288])\n",
      "torch.Size([12288])\n",
      "torch.Size([3, 64, 64])\n"
     ]
    },
    {
     "data": {
      "text/plain": [
       "<Figure size 432x288 with 0 Axes>"
      ]
     },
     "metadata": {},
     "output_type": "display_data"
    }
   ],
   "source": [
    "ip_image = trial_image.type(torch.float32)\n",
    "print(ip_image.size())\n",
    "ip_image = torch.flatten(to_var(ip_image.view(ip_image.size(0), -1)))\n",
    "print(ip_image.size())\n",
    "recon_image = ae(ip_image)\n",
    "print(recon_image.size())\n",
    "recon_image = recon_image.reshape(3,red_dim,red_dim)\n",
    "print(recon_image.size())\n",
    "\n",
    "\n",
    "transform_toimage = transforms.ToPILImage()\n",
    "\n",
    "\n",
    "# plt.imshow(transform_toimage(recon_image))\n",
    "plt.savefig('rcon 1.png')\n"
   ]
  },
  {
   "cell_type": "markdown",
   "id": "a03d3206",
   "metadata": {},
   "source": [
    "## Testing Data"
   ]
  },
  {
   "cell_type": "code",
   "execution_count": 20,
   "id": "f637da6b",
   "metadata": {},
   "outputs": [
    {
     "name": "stdout",
     "output_type": "stream",
     "text": [
      "name: Alex_Holmes\n"
     ]
    },
    {
     "data": {
      "text/plain": [
       "<matplotlib.image.AxesImage at 0x7fa5fc9c43d0>"
      ]
     },
     "execution_count": 20,
     "metadata": {},
     "output_type": "execute_result"
    },
    {
     "data": {
      "image/png": "[encoded data removed]",
      "text/plain": [
       "<Figure size 432x288 with 1 Axes>"
      ]
     },
     "metadata": {
      "needs_background": "light"
     },
     "output_type": "display_data"
    }
   ],
   "source": [
    "number = trial_number-1\n",
    "# test_image = torch.tensor(np.zeros(shape = (1,3,red_dim,red_dim)))\n",
    "\n",
    "test_name = train_data.iloc[number,0]\n",
    "print('name:', name)\n",
    "\n",
    "test_file_path = path + test_name + '/'+ test_name + '_0001' +'.jpg'\n",
    "test_image = img2tensor(test_file_path)\n",
    "\n",
    "plt.imshow(test_image.permute(1, 2, 0)  )"
   ]
  },
  {
   "cell_type": "code",
   "execution_count": 21,
   "id": "647bef45",
   "metadata": {},
   "outputs": [
    {
     "name": "stdout",
     "output_type": "stream",
     "text": [
      "torch.Size([3, 64, 64])\n",
      "torch.Size([12288])\n",
      "torch.Size([12288])\n",
      "torch.Size([3, 64, 64])\n"
     ]
    },
    {
     "data": {
      "text/plain": [
       "<matplotlib.image.AxesImage at 0x7fa5fca5ed30>"
      ]
     },
     "execution_count": 21,
     "metadata": {},
     "output_type": "execute_result"
    },
    {
     "data": {
      "image/png": "[encoded data removed]",
      "text/plain": [
       "<Figure size 432x288 with 1 Axes>"
      ]
     },
     "metadata": {
      "needs_background": "light"
     },
     "output_type": "display_data"
    }
   ],
   "source": [
    "test_ip_image = test_image.type(torch.float32)\n",
    "print(test_ip_image.size())\n",
    "test_ip_image = torch.flatten(to_var(test_ip_image.view(test_ip_image.size(0), -1)))\n",
    "print(test_ip_image.size())\n",
    "test_recon_image = ae(test_ip_image)\n",
    "test_recon_image = test_recon_image.type(torch.float32)\n",
    "print(test_recon_image.size())\n",
    "# test_recon_loss = loss(test_recon_image, test_ip_image)\n",
    "# print('Loss:', test_recon_loss)\n",
    "test_recon_image = test_recon_image.reshape(3,red_dim,red_dim)\n",
    "print(recon_image.size())\n",
    "\n",
    "\n",
    "transform_toimage = transforms.ToPILImage()\n",
    "\n",
    "plt.imshow(transform_toimage(test_recon_image))"
   ]
  }
 ],
 "metadata": {
  "kernelspec": {
   "display_name": "Python 3",
   "language": "python",
   "name": "python3"
  },
  "language_info": {
   "codemirror_mode": {
    "name": "ipython",
    "version": 3
   },
   "file_extension": ".py",
   "mimetype": "text/x-python",
   "name": "python",
   "nbconvert_exporter": "python",
   "pygments_lexer": "ipython3",
   "version": "3.8.8"
  }
 },
 "nbformat": 4,
 "nbformat_minor": 5
}
